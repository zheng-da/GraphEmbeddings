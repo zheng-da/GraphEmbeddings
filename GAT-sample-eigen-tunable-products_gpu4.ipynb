{
 "cells": [
  {
   "cell_type": "code",
   "execution_count": 1,
   "metadata": {},
   "outputs": [
    {
     "name": "stderr",
     "output_type": "stream",
     "text": [
      "Using backend: pytorch\n"
     ]
    }
   ],
   "source": [
    "import dgl\n",
    "import time\n",
    "import torch as th\n",
    "import numpy as np\n",
    "import torch.nn.functional as F\n",
    "\n",
    "from load_data import load_ogb\n",
    "from model import SAGE, GAT, get_eigen\n",
    "from train_eval import train_ft_embed"
   ]
  },
  {
   "cell_type": "markdown",
   "metadata": {},
   "source": [
    "This notebook shows the performance of GAT on the OGBN-products graph with trainable embeddings on the nodes. We use scaled eigenvectors to initialize the node embeddings. The logic here is that if eigenvectors can serve as positional node embeddings, fine-tuning the node embeddings should give us even better performance. In this experiment, we tune the node embeddings with the same learning rate as the one for the GraphSage model."
   ]
  },
  {
   "cell_type": "code",
   "execution_count": 2,
   "metadata": {
    "scrolled": false
   },
   "outputs": [
    {
     "name": "stderr",
     "output_type": "stream",
     "text": [
      "WARNING:root:The OGB package is out of date. Your version is 1.3.1, while the latest version is 1.3.2.\n"
     ]
    },
    {
     "name": "stdout",
     "output_type": "stream",
     "text": [
      "load ogbn-products\n",
      "finish loading ogbn-products\n",
      "finish constructing ogbn-products\n"
     ]
    },
    {
     "name": "stderr",
     "output_type": "stream",
     "text": [
      "/usr/local/lib/python3.6/dist-packages/ipykernel_launcher.py:6: UserWarning: Casting complex values to real discards the imaginary part (Triggered internally at  /pytorch/aten/src/ATen/native/Copy.cpp:219.)\n",
      "  \n"
     ]
    },
    {
     "name": "stdout",
     "output_type": "stream",
     "text": [
      "embedding is in  cuda:4\n"
     ]
    },
    {
     "name": "stderr",
     "output_type": "stream",
     "text": [
      "/usr/local/lib/python3.6/dist-packages/numpy/core/fromnumeric.py:3373: RuntimeWarning: Mean of empty slice.\n",
      "  out=out, **kwargs)\n",
      "/usr/local/lib/python3.6/dist-packages/numpy/core/_methods.py:170: RuntimeWarning: invalid value encountered in double_scalars\n",
      "  ret = ret.dtype.type(ret / rcount)\n"
     ]
    },
    {
     "name": "stdout",
     "output_type": "stream",
     "text": [
      "Epoch 00000 | Step 00000 | Loss 3.8503 | Train Acc 0.0117 | Speed (samples/sec) nan | GPU 4495.0 MB\n",
      "Epoch 00000 | Step 00020 | Loss 1.4978 | Train Acc 0.6328 | Speed (samples/sec) 278.2007 | GPU 6369.6 MB\n",
      "Epoch 00000 | Step 00040 | Loss 0.7826 | Train Acc 0.8145 | Speed (samples/sec) 296.4423 | GPU 6369.6 MB\n",
      "Epoch 00000 | Step 00060 | Loss 0.5175 | Train Acc 0.8594 | Speed (samples/sec) 299.4021 | GPU 6388.3 MB\n",
      "Epoch 00000 | Step 00080 | Loss 0.4420 | Train Acc 0.8809 | Speed (samples/sec) 298.9589 | GPU 6389.3 MB\n",
      "Epoch 00000 | Step 00100 | Loss 0.3912 | Train Acc 0.8906 | Speed (samples/sec) 297.5999 | GPU 6389.3 MB\n",
      "Epoch 00000 | Step 00120 | Loss 0.4164 | Train Acc 0.8926 | Speed (samples/sec) 295.1031 | GPU 6389.6 MB\n",
      "Epoch 00000 | Step 00140 | Loss 0.3759 | Train Acc 0.8984 | Speed (samples/sec) 292.9337 | GPU 6389.6 MB\n",
      "Epoch 00000 | Step 00160 | Loss 0.4102 | Train Acc 0.9023 | Speed (samples/sec) 291.5703 | GPU 6389.6 MB\n",
      "Epoch 00000 | Step 00180 | Loss 0.3854 | Train Acc 0.8945 | Speed (samples/sec) 292.4655 | GPU 6389.6 MB\n",
      "Epoch 00000 | Step 00200 | Loss 0.4117 | Train Acc 0.8926 | Speed (samples/sec) 293.3639 | GPU 6389.6 MB\n",
      "Epoch 00000 | Step 00220 | Loss 0.4345 | Train Acc 0.8809 | Speed (samples/sec) 293.7181 | GPU 6389.6 MB\n",
      "Epoch 00000 | Step 00240 | Loss 0.3503 | Train Acc 0.9004 | Speed (samples/sec) 292.6929 | GPU 6389.6 MB\n",
      "Epoch 00000 | Step 00260 | Loss 0.3902 | Train Acc 0.9004 | Speed (samples/sec) 291.5908 | GPU 6390.1 MB\n",
      "Epoch 00000 | Step 00280 | Loss 0.3568 | Train Acc 0.8906 | Speed (samples/sec) 291.8024 | GPU 6390.1 MB\n",
      "Epoch 00000 | Step 00300 | Loss 0.3340 | Train Acc 0.9062 | Speed (samples/sec) 291.1591 | GPU 6390.1 MB\n",
      "Epoch 00000 | Step 00320 | Loss 0.4113 | Train Acc 0.8906 | Speed (samples/sec) 291.8836 | GPU 6390.1 MB\n",
      "Epoch 00000 | Step 00340 | Loss 0.3153 | Train Acc 0.8984 | Speed (samples/sec) 292.9633 | GPU 6390.1 MB\n",
      "Epoch 00000 | Step 00360 | Loss 0.3012 | Train Acc 0.9043 | Speed (samples/sec) 293.5366 | GPU 6390.1 MB\n",
      "Epoch 00000 | Step 00380 | Loss 0.4218 | Train Acc 0.8926 | Speed (samples/sec) 292.9344 | GPU 6390.1 MB\n",
      "Epoch Time(s): 677.9489\n",
      "Epoch 00001 | Step 00000 | Loss 0.3947 | Train Acc 0.8906 | Speed (samples/sec) 292.0470 | GPU 6390.1 MB\n",
      "Epoch 00001 | Step 00020 | Loss 0.2924 | Train Acc 0.9238 | Speed (samples/sec) 291.7444 | GPU 6390.1 MB\n",
      "Epoch 00001 | Step 00040 | Loss 0.3190 | Train Acc 0.9141 | Speed (samples/sec) 290.7583 | GPU 6390.1 MB\n",
      "Epoch 00001 | Step 00060 | Loss 0.3027 | Train Acc 0.9180 | Speed (samples/sec) 290.1870 | GPU 6390.1 MB\n",
      "Epoch 00001 | Step 00080 | Loss 0.3234 | Train Acc 0.8984 | Speed (samples/sec) 289.9925 | GPU 6390.1 MB\n",
      "Epoch 00001 | Step 00100 | Loss 0.3756 | Train Acc 0.8770 | Speed (samples/sec) 288.9774 | GPU 6390.1 MB\n",
      "Epoch 00001 | Step 00120 | Loss 0.3450 | Train Acc 0.8945 | Speed (samples/sec) 287.5285 | GPU 6390.1 MB\n",
      "Epoch 00001 | Step 00140 | Loss 0.3413 | Train Acc 0.9023 | Speed (samples/sec) 286.0010 | GPU 6390.1 MB\n",
      "Epoch 00001 | Step 00160 | Loss 0.3866 | Train Acc 0.8926 | Speed (samples/sec) 284.2773 | GPU 6390.1 MB\n",
      "Epoch 00001 | Step 00180 | Loss 0.2839 | Train Acc 0.9141 | Speed (samples/sec) 282.7080 | GPU 6390.1 MB\n",
      "Epoch 00001 | Step 00200 | Loss 0.3568 | Train Acc 0.9004 | Speed (samples/sec) 281.8735 | GPU 6390.1 MB\n",
      "Epoch 00001 | Step 00220 | Loss 0.3097 | Train Acc 0.9160 | Speed (samples/sec) 281.3149 | GPU 6390.1 MB\n",
      "Epoch 00001 | Step 00240 | Loss 0.3180 | Train Acc 0.8965 | Speed (samples/sec) 280.3855 | GPU 6390.1 MB\n",
      "Epoch 00001 | Step 00260 | Loss 0.2817 | Train Acc 0.9297 | Speed (samples/sec) 279.4101 | GPU 6390.1 MB\n",
      "Epoch 00001 | Step 00280 | Loss 0.3333 | Train Acc 0.9082 | Speed (samples/sec) 278.5317 | GPU 6390.1 MB\n",
      "Epoch 00001 | Step 00300 | Loss 0.3686 | Train Acc 0.8984 | Speed (samples/sec) 277.6075 | GPU 6390.1 MB\n",
      "Epoch 00001 | Step 00320 | Loss 0.3159 | Train Acc 0.9160 | Speed (samples/sec) 276.5680 | GPU 6390.1 MB\n",
      "Epoch 00001 | Step 00340 | Loss 0.2399 | Train Acc 0.9277 | Speed (samples/sec) 276.0614 | GPU 6390.1 MB\n",
      "Epoch 00001 | Step 00360 | Loss 0.3545 | Train Acc 0.9160 | Speed (samples/sec) 276.0780 | GPU 6390.1 MB\n",
      "Epoch 00001 | Step 00380 | Loss 0.2519 | Train Acc 0.9238 | Speed (samples/sec) 275.7695 | GPU 6390.1 MB\n",
      "Epoch Time(s): 763.9902\n"
     ]
    },
    {
     "name": "stderr",
     "output_type": "stream",
     "text": [
      "100%|██████████| 245/245 [00:53<00:00,  4.56it/s]\n",
      "100%|██████████| 245/245 [02:14<00:00,  1.82it/s]\n",
      "100%|██████████| 245/245 [02:06<00:00,  1.93it/s]\n"
     ]
    },
    {
     "name": "stdout",
     "output_type": "stream",
     "text": [
      "Val acc 0.9141, Test Acc: 0.7712\n",
      "Best val acc 0.9141, best test acc: 0.7712\n",
      "Epoch 00002 | Step 00000 | Loss 0.2966 | Train Acc 0.9199 | Speed (samples/sec) 275.2232 | GPU 6390.1 MB\n",
      "Epoch 00002 | Step 00020 | Loss 0.2334 | Train Acc 0.9316 | Speed (samples/sec) 274.5229 | GPU 6390.1 MB\n",
      "Epoch 00002 | Step 00040 | Loss 0.3156 | Train Acc 0.9004 | Speed (samples/sec) 273.8106 | GPU 6390.1 MB\n",
      "Epoch 00002 | Step 00060 | Loss 0.3140 | Train Acc 0.9180 | Speed (samples/sec) 273.6753 | GPU 6390.1 MB\n",
      "Epoch 00002 | Step 00080 | Loss 0.3383 | Train Acc 0.9141 | Speed (samples/sec) 273.7290 | GPU 6393.7 MB\n",
      "Epoch 00002 | Step 00100 | Loss 0.2495 | Train Acc 0.9258 | Speed (samples/sec) 273.7881 | GPU 6393.7 MB\n",
      "Epoch 00002 | Step 00120 | Loss 0.2805 | Train Acc 0.9219 | Speed (samples/sec) 273.2045 | GPU 6393.7 MB\n",
      "Epoch 00002 | Step 00140 | Loss 0.2389 | Train Acc 0.9297 | Speed (samples/sec) 272.7760 | GPU 6393.7 MB\n",
      "Epoch 00002 | Step 00160 | Loss 0.2818 | Train Acc 0.9238 | Speed (samples/sec) 272.5663 | GPU 6393.7 MB\n",
      "Epoch 00002 | Step 00180 | Loss 0.2121 | Train Acc 0.9414 | Speed (samples/sec) 272.5065 | GPU 6393.7 MB\n",
      "Epoch 00002 | Step 00200 | Loss 0.3511 | Train Acc 0.8867 | Speed (samples/sec) 272.8426 | GPU 6393.7 MB\n",
      "Epoch 00002 | Step 00220 | Loss 0.2852 | Train Acc 0.9062 | Speed (samples/sec) 273.0408 | GPU 6393.7 MB\n",
      "Epoch 00002 | Step 00240 | Loss 0.3008 | Train Acc 0.8984 | Speed (samples/sec) 273.1781 | GPU 6393.7 MB\n",
      "Epoch 00002 | Step 00260 | Loss 0.2752 | Train Acc 0.9316 | Speed (samples/sec) 273.1246 | GPU 6393.7 MB\n",
      "Epoch 00002 | Step 00280 | Loss 0.3129 | Train Acc 0.8984 | Speed (samples/sec) 273.1981 | GPU 6393.7 MB\n",
      "Epoch 00002 | Step 00300 | Loss 0.2713 | Train Acc 0.9199 | Speed (samples/sec) 273.2600 | GPU 6393.7 MB\n",
      "Epoch 00002 | Step 00320 | Loss 0.3380 | Train Acc 0.9023 | Speed (samples/sec) 273.3459 | GPU 6393.7 MB\n",
      "Epoch 00002 | Step 00340 | Loss 0.3088 | Train Acc 0.9062 | Speed (samples/sec) 273.9441 | GPU 6393.7 MB\n",
      "Epoch 00002 | Step 00360 | Loss 0.2442 | Train Acc 0.9434 | Speed (samples/sec) 274.2358 | GPU 6393.7 MB\n",
      "Epoch 00002 | Step 00380 | Loss 0.2840 | Train Acc 0.9199 | Speed (samples/sec) 274.2751 | GPU 6393.7 MB\n",
      "Epoch Time(s): 728.0463\n"
     ]
    },
    {
     "name": "stderr",
     "output_type": "stream",
     "text": [
      "100%|██████████| 245/245 [00:50<00:00,  4.82it/s]\n",
      "100%|██████████| 245/245 [02:11<00:00,  1.86it/s]\n",
      "100%|██████████| 245/245 [02:00<00:00,  2.03it/s]\n"
     ]
    },
    {
     "name": "stdout",
     "output_type": "stream",
     "text": [
      "Val acc 0.9117, Test Acc: 0.7724\n",
      "Epoch 00003 | Step 00000 | Loss 0.3156 | Train Acc 0.9238 | Speed (samples/sec) 274.0498 | GPU 6393.7 MB\n",
      "Epoch 00003 | Step 00020 | Loss 0.2931 | Train Acc 0.9062 | Speed (samples/sec) 273.8447 | GPU 6393.7 MB\n",
      "Epoch 00003 | Step 00040 | Loss 0.3107 | Train Acc 0.9199 | Speed (samples/sec) 273.8142 | GPU 6393.7 MB\n",
      "Epoch 00003 | Step 00060 | Loss 0.3188 | Train Acc 0.9043 | Speed (samples/sec) 274.1147 | GPU 6393.7 MB\n",
      "Epoch 00003 | Step 00080 | Loss 0.2427 | Train Acc 0.9355 | Speed (samples/sec) 274.3455 | GPU 6399.1 MB\n",
      "Epoch 00003 | Step 00100 | Loss 0.2871 | Train Acc 0.8984 | Speed (samples/sec) 274.6773 | GPU 6399.1 MB\n",
      "Epoch 00003 | Step 00120 | Loss 0.3370 | Train Acc 0.8945 | Speed (samples/sec) 274.6799 | GPU 6399.1 MB\n",
      "Epoch 00003 | Step 00140 | Loss 0.2518 | Train Acc 0.9316 | Speed (samples/sec) 274.6049 | GPU 6399.1 MB\n",
      "Epoch 00003 | Step 00160 | Loss 0.2800 | Train Acc 0.9238 | Speed (samples/sec) 274.5137 | GPU 6399.1 MB\n",
      "Epoch 00003 | Step 00180 | Loss 0.2718 | Train Acc 0.9238 | Speed (samples/sec) 274.3586 | GPU 6399.1 MB\n",
      "Epoch 00003 | Step 00200 | Loss 0.2876 | Train Acc 0.9082 | Speed (samples/sec) 274.5665 | GPU 6399.1 MB\n",
      "Epoch 00003 | Step 00220 | Loss 0.2665 | Train Acc 0.9316 | Speed (samples/sec) 274.7120 | GPU 6399.1 MB\n",
      "Epoch 00003 | Step 00240 | Loss 0.2961 | Train Acc 0.9199 | Speed (samples/sec) 274.8262 | GPU 6399.1 MB\n",
      "Epoch 00003 | Step 00260 | Loss 0.2543 | Train Acc 0.9141 | Speed (samples/sec) 274.6872 | GPU 6399.1 MB\n",
      "Epoch 00003 | Step 00280 | Loss 0.2573 | Train Acc 0.9160 | Speed (samples/sec) 274.5721 | GPU 6399.1 MB\n",
      "Epoch 00003 | Step 00300 | Loss 0.3831 | Train Acc 0.8984 | Speed (samples/sec) 274.5192 | GPU 6399.1 MB\n",
      "Epoch 00003 | Step 00320 | Loss 0.2975 | Train Acc 0.9180 | Speed (samples/sec) 274.5589 | GPU 6399.1 MB\n",
      "Epoch 00003 | Step 00340 | Loss 0.2538 | Train Acc 0.9258 | Speed (samples/sec) 274.9274 | GPU 6399.1 MB\n",
      "Epoch 00003 | Step 00360 | Loss 0.2606 | Train Acc 0.9199 | Speed (samples/sec) 275.1757 | GPU 6399.1 MB\n",
      "Epoch 00003 | Step 00380 | Loss 0.2388 | Train Acc 0.9297 | Speed (samples/sec) 275.2712 | GPU 6399.1 MB\n",
      "Epoch Time(s): 709.9164\n"
     ]
    },
    {
     "name": "stderr",
     "output_type": "stream",
     "text": [
      "100%|██████████| 245/245 [00:50<00:00,  4.81it/s]\n",
      "100%|██████████| 245/245 [02:10<00:00,  1.87it/s]\n",
      "100%|██████████| 245/245 [01:56<00:00,  2.11it/s]\n"
     ]
    },
    {
     "name": "stdout",
     "output_type": "stream",
     "text": [
      "Val acc 0.9177, Test Acc: 0.8028\n",
      "Best val acc 0.9177, best test acc: 0.8028\n",
      "Epoch 00004 | Step 00000 | Loss 0.2678 | Train Acc 0.9199 | Speed (samples/sec) 275.1031 | GPU 6399.1 MB\n",
      "Epoch 00004 | Step 00020 | Loss 0.2564 | Train Acc 0.9297 | Speed (samples/sec) 275.1730 | GPU 6399.1 MB\n",
      "Epoch 00004 | Step 00040 | Loss 0.2853 | Train Acc 0.9199 | Speed (samples/sec) 275.0345 | GPU 6399.1 MB\n",
      "Epoch 00004 | Step 00060 | Loss 0.2565 | Train Acc 0.9141 | Speed (samples/sec) 274.8980 | GPU 6399.1 MB\n",
      "Epoch 00004 | Step 00080 | Loss 0.2815 | Train Acc 0.9219 | Speed (samples/sec) 274.7980 | GPU 6399.1 MB\n",
      "Epoch 00004 | Step 00100 | Loss 0.2417 | Train Acc 0.9336 | Speed (samples/sec) 274.8690 | GPU 6399.1 MB\n",
      "Epoch 00004 | Step 00120 | Loss 0.2744 | Train Acc 0.9238 | Speed (samples/sec) 275.1362 | GPU 6399.1 MB\n",
      "Epoch 00004 | Step 00140 | Loss 0.2889 | Train Acc 0.9199 | Speed (samples/sec) 275.2703 | GPU 6399.1 MB\n",
      "Epoch 00004 | Step 00160 | Loss 0.2470 | Train Acc 0.9355 | Speed (samples/sec) 275.3409 | GPU 6399.1 MB\n",
      "Epoch 00004 | Step 00180 | Loss 0.2497 | Train Acc 0.9336 | Speed (samples/sec) 275.3967 | GPU 6399.1 MB\n",
      "Epoch 00004 | Step 00200 | Loss 0.2299 | Train Acc 0.9316 | Speed (samples/sec) 275.3550 | GPU 6399.1 MB\n",
      "Epoch 00004 | Step 00220 | Loss 0.2546 | Train Acc 0.9277 | Speed (samples/sec) 275.3235 | GPU 6399.1 MB\n",
      "Epoch 00004 | Step 00240 | Loss 0.2953 | Train Acc 0.9219 | Speed (samples/sec) 275.3452 | GPU 6399.1 MB\n",
      "Epoch 00004 | Step 00260 | Loss 0.2568 | Train Acc 0.9199 | Speed (samples/sec) 275.6852 | GPU 6399.1 MB\n",
      "Epoch 00004 | Step 00280 | Loss 0.2787 | Train Acc 0.9160 | Speed (samples/sec) 275.7914 | GPU 6399.1 MB\n",
      "Epoch 00004 | Step 00300 | Loss 0.3274 | Train Acc 0.9062 | Speed (samples/sec) 275.8515 | GPU 6399.1 MB\n",
      "Epoch 00004 | Step 00320 | Loss 0.2651 | Train Acc 0.9141 | Speed (samples/sec) 275.8428 | GPU 6399.1 MB\n",
      "Epoch 00004 | Step 00340 | Loss 0.3573 | Train Acc 0.8945 | Speed (samples/sec) 275.8974 | GPU 6399.1 MB\n",
      "Epoch 00004 | Step 00360 | Loss 0.3190 | Train Acc 0.9004 | Speed (samples/sec) 275.8721 | GPU 6399.1 MB\n",
      "Epoch 00004 | Step 00380 | Loss 0.2635 | Train Acc 0.9238 | Speed (samples/sec) 276.0203 | GPU 6399.1 MB\n",
      "Epoch Time(s): 706.1063\n"
     ]
    },
    {
     "name": "stderr",
     "output_type": "stream",
     "text": [
      "100%|██████████| 245/245 [00:46<00:00,  5.26it/s]\n",
      "100%|██████████| 245/245 [02:13<00:00,  1.84it/s]\n",
      "100%|██████████| 245/245 [01:57<00:00,  2.09it/s]\n"
     ]
    },
    {
     "name": "stdout",
     "output_type": "stream",
     "text": [
      "Val acc 0.9179, Test Acc: 0.7876\n",
      "Best val acc 0.9179, best test acc: 0.7876\n",
      "Epoch 00005 | Step 00000 | Loss 0.3200 | Train Acc 0.8887 | Speed (samples/sec) 275.9627 | GPU 6399.1 MB\n",
      "Epoch 00005 | Step 00020 | Loss 0.2895 | Train Acc 0.9199 | Speed (samples/sec) 276.1042 | GPU 6399.1 MB\n",
      "Epoch 00005 | Step 00040 | Loss 0.2423 | Train Acc 0.9219 | Speed (samples/sec) 276.0106 | GPU 6399.1 MB\n",
      "Epoch 00005 | Step 00060 | Loss 0.2101 | Train Acc 0.9316 | Speed (samples/sec) 275.9780 | GPU 6399.1 MB\n",
      "Epoch 00005 | Step 00080 | Loss 0.2731 | Train Acc 0.9238 | Speed (samples/sec) 275.8398 | GPU 6399.1 MB\n",
      "Epoch 00005 | Step 00100 | Loss 0.2260 | Train Acc 0.9258 | Speed (samples/sec) 275.7273 | GPU 6399.1 MB\n",
      "Epoch 00005 | Step 00120 | Loss 0.2783 | Train Acc 0.8945 | Speed (samples/sec) 276.0836 | GPU 6399.1 MB\n",
      "Epoch 00005 | Step 00140 | Loss 0.2697 | Train Acc 0.9180 | Speed (samples/sec) 276.3241 | GPU 6399.1 MB\n",
      "Epoch 00005 | Step 00160 | Loss 0.2928 | Train Acc 0.9023 | Speed (samples/sec) 276.4227 | GPU 6399.1 MB\n",
      "Epoch 00005 | Step 00180 | Loss 0.2383 | Train Acc 0.9434 | Speed (samples/sec) 276.3935 | GPU 6399.1 MB\n",
      "Epoch 00005 | Step 00200 | Loss 0.2467 | Train Acc 0.9258 | Speed (samples/sec) 276.3474 | GPU 6399.1 MB\n",
      "Epoch 00005 | Step 00220 | Loss 0.2280 | Train Acc 0.9316 | Speed (samples/sec) 276.2301 | GPU 6399.1 MB\n",
      "Epoch 00005 | Step 00240 | Loss 0.2544 | Train Acc 0.9238 | Speed (samples/sec) 276.2016 | GPU 6399.1 MB\n",
      "Epoch 00005 | Step 00260 | Loss 0.3019 | Train Acc 0.9102 | Speed (samples/sec) 276.2980 | GPU 6399.1 MB\n",
      "Epoch 00005 | Step 00280 | Loss 0.3165 | Train Acc 0.9043 | Speed (samples/sec) 276.4289 | GPU 6399.1 MB\n",
      "Epoch 00005 | Step 00300 | Loss 0.2724 | Train Acc 0.9180 | Speed (samples/sec) 276.4271 | GPU 6399.1 MB\n",
      "Epoch 00005 | Step 00320 | Loss 0.2564 | Train Acc 0.9238 | Speed (samples/sec) 276.4035 | GPU 6399.1 MB\n",
      "Epoch 00005 | Step 00340 | Loss 0.3300 | Train Acc 0.8984 | Speed (samples/sec) 276.3364 | GPU 6399.1 MB\n",
      "Epoch 00005 | Step 00360 | Loss 0.3278 | Train Acc 0.9102 | Speed (samples/sec) 276.2467 | GPU 6399.1 MB\n",
      "Epoch 00005 | Step 00380 | Loss 0.3340 | Train Acc 0.9160 | Speed (samples/sec) 276.2246 | GPU 6399.1 MB\n",
      "Epoch Time(s): 713.4022\n"
     ]
    },
    {
     "name": "stderr",
     "output_type": "stream",
     "text": [
      "100%|██████████| 245/245 [00:47<00:00,  5.11it/s]\n",
      "100%|██████████| 245/245 [02:14<00:00,  1.83it/s]\n",
      "100%|██████████| 245/245 [01:56<00:00,  2.10it/s]\n"
     ]
    },
    {
     "name": "stdout",
     "output_type": "stream",
     "text": [
      "Val acc 0.9180, Test Acc: 0.7895\n",
      "Best val acc 0.9180, best test acc: 0.7895\n",
      "Epoch 00006 | Step 00000 | Loss 0.2240 | Train Acc 0.9102 | Speed (samples/sec) 276.1645 | GPU 6399.1 MB\n",
      "Epoch 00006 | Step 00020 | Loss 0.3432 | Train Acc 0.9043 | Speed (samples/sec) 276.2689 | GPU 6399.1 MB\n",
      "Epoch 00006 | Step 00040 | Loss 0.2456 | Train Acc 0.9395 | Speed (samples/sec) 276.2505 | GPU 6399.1 MB\n",
      "Epoch 00006 | Step 00060 | Loss 0.2514 | Train Acc 0.9102 | Speed (samples/sec) 276.2704 | GPU 6399.1 MB\n",
      "Epoch 00006 | Step 00080 | Loss 0.2922 | Train Acc 0.9219 | Speed (samples/sec) 276.1821 | GPU 6399.1 MB\n",
      "Epoch 00006 | Step 00100 | Loss 0.2369 | Train Acc 0.9355 | Speed (samples/sec) 276.1530 | GPU 6399.1 MB\n",
      "Epoch 00006 | Step 00120 | Loss 0.2703 | Train Acc 0.9258 | Speed (samples/sec) 276.2837 | GPU 6399.1 MB\n",
      "Epoch 00006 | Step 00140 | Loss 0.2164 | Train Acc 0.9277 | Speed (samples/sec) 276.3178 | GPU 6399.1 MB\n",
      "Epoch 00006 | Step 00160 | Loss 0.2580 | Train Acc 0.9219 | Speed (samples/sec) 276.2905 | GPU 6399.1 MB\n",
      "Epoch 00006 | Step 00180 | Loss 0.2528 | Train Acc 0.9180 | Speed (samples/sec) 276.1490 | GPU 6399.1 MB\n",
      "Epoch 00006 | Step 00200 | Loss 0.2497 | Train Acc 0.9277 | Speed (samples/sec) 276.0294 | GPU 6399.1 MB\n",
      "Epoch 00006 | Step 00220 | Loss 0.2496 | Train Acc 0.9238 | Speed (samples/sec) 275.9392 | GPU 6399.1 MB\n",
      "Epoch 00006 | Step 00240 | Loss 0.2153 | Train Acc 0.9277 | Speed (samples/sec) 275.9133 | GPU 6399.1 MB\n",
      "Epoch 00006 | Step 00260 | Loss 0.3373 | Train Acc 0.8848 | Speed (samples/sec) 276.0501 | GPU 6399.1 MB\n",
      "Epoch 00006 | Step 00280 | Loss 0.2337 | Train Acc 0.9355 | Speed (samples/sec) 276.1503 | GPU 6399.1 MB\n",
      "Epoch 00006 | Step 00300 | Loss 0.2033 | Train Acc 0.9355 | Speed (samples/sec) 276.1716 | GPU 6399.1 MB\n",
      "Epoch 00006 | Step 00320 | Loss 0.2774 | Train Acc 0.9199 | Speed (samples/sec) 276.1153 | GPU 6399.1 MB\n",
      "Epoch 00006 | Step 00340 | Loss 0.3223 | Train Acc 0.9121 | Speed (samples/sec) 276.0307 | GPU 6399.1 MB\n",
      "Epoch 00006 | Step 00360 | Loss 0.3534 | Train Acc 0.9062 | Speed (samples/sec) 275.9734 | GPU 6399.1 MB\n",
      "Epoch 00006 | Step 00380 | Loss 0.2878 | Train Acc 0.8984 | Speed (samples/sec) 276.1141 | GPU 6399.1 MB\n",
      "Epoch Time(s): 717.0135\n"
     ]
    },
    {
     "name": "stderr",
     "output_type": "stream",
     "text": [
      "100%|██████████| 245/245 [00:46<00:00,  5.25it/s]\n",
      "100%|██████████| 245/245 [02:14<00:00,  1.82it/s]\n",
      "100%|██████████| 245/245 [01:56<00:00,  2.10it/s]\n"
     ]
    },
    {
     "name": "stdout",
     "output_type": "stream",
     "text": [
      "Val acc 0.9191, Test Acc: 0.7932\n",
      "Best val acc 0.9191, best test acc: 0.7932\n",
      "Epoch 00007 | Step 00000 | Loss 0.1606 | Train Acc 0.9570 | Speed (samples/sec) 276.0754 | GPU 6399.1 MB\n",
      "Epoch 00007 | Step 00020 | Loss 0.2654 | Train Acc 0.9219 | Speed (samples/sec) 276.0107 | GPU 6399.1 MB\n",
      "Epoch 00007 | Step 00040 | Loss 0.3334 | Train Acc 0.9023 | Speed (samples/sec) 275.9079 | GPU 6399.1 MB\n",
      "Epoch 00007 | Step 00060 | Loss 0.2537 | Train Acc 0.9199 | Speed (samples/sec) 275.7617 | GPU 6399.1 MB\n",
      "Epoch 00007 | Step 00080 | Loss 0.3024 | Train Acc 0.9141 | Speed (samples/sec) 275.6384 | GPU 6399.1 MB\n",
      "Epoch 00007 | Step 00100 | Loss 0.2183 | Train Acc 0.9395 | Speed (samples/sec) 275.6546 | GPU 6399.1 MB\n",
      "Epoch 00007 | Step 00120 | Loss 0.3036 | Train Acc 0.9121 | Speed (samples/sec) 275.6728 | GPU 6399.1 MB\n",
      "Epoch 00007 | Step 00140 | Loss 0.2376 | Train Acc 0.9258 | Speed (samples/sec) 275.7705 | GPU 6399.1 MB\n",
      "Epoch 00007 | Step 00160 | Loss 0.2748 | Train Acc 0.9219 | Speed (samples/sec) 275.6423 | GPU 6399.1 MB\n",
      "Epoch 00007 | Step 00180 | Loss 0.2188 | Train Acc 0.9355 | Speed (samples/sec) 275.5791 | GPU 6399.1 MB\n",
      "Epoch 00007 | Step 00200 | Loss 0.2820 | Train Acc 0.9141 | Speed (samples/sec) 275.5268 | GPU 6399.1 MB\n",
      "Epoch 00007 | Step 00220 | Loss 0.2607 | Train Acc 0.9297 | Speed (samples/sec) 275.4347 | GPU 6399.1 MB\n",
      "Epoch 00007 | Step 00240 | Loss 0.3424 | Train Acc 0.9004 | Speed (samples/sec) 275.6140 | GPU 6399.1 MB\n",
      "Epoch 00007 | Step 00260 | Loss 0.2409 | Train Acc 0.9355 | Speed (samples/sec) 275.8047 | GPU 6399.1 MB\n",
      "Epoch 00007 | Step 00280 | Loss 0.2801 | Train Acc 0.9082 | Speed (samples/sec) 275.9654 | GPU 6399.1 MB\n",
      "Epoch 00007 | Step 00300 | Loss 0.3134 | Train Acc 0.9160 | Speed (samples/sec) 275.8905 | GPU 6399.1 MB\n",
      "Epoch 00007 | Step 00320 | Loss 0.2446 | Train Acc 0.9258 | Speed (samples/sec) 275.7920 | GPU 6399.1 MB\n",
      "Epoch 00007 | Step 00340 | Loss 0.2229 | Train Acc 0.9258 | Speed (samples/sec) 275.7424 | GPU 6399.1 MB\n",
      "Epoch 00007 | Step 00360 | Loss 0.2158 | Train Acc 0.9297 | Speed (samples/sec) 275.6785 | GPU 6399.1 MB\n",
      "Epoch 00007 | Step 00380 | Loss 0.2861 | Train Acc 0.9102 | Speed (samples/sec) 275.7277 | GPU 6399.1 MB\n",
      "Epoch Time(s): 724.1889\n"
     ]
    },
    {
     "name": "stderr",
     "output_type": "stream",
     "text": [
      "100%|██████████| 245/245 [00:50<00:00,  4.89it/s]\n",
      "100%|██████████| 245/245 [01:58<00:00,  2.07it/s]\n",
      "100%|██████████| 245/245 [01:47<00:00,  2.29it/s]\n"
     ]
    },
    {
     "name": "stdout",
     "output_type": "stream",
     "text": [
      "Val acc 0.9197, Test Acc: 0.7932\n",
      "Best val acc 0.9197, best test acc: 0.7932\n",
      "Epoch 00008 | Step 00000 | Loss 0.2855 | Train Acc 0.9023 | Speed (samples/sec) 275.6739 | GPU 6399.1 MB\n",
      "Epoch 00008 | Step 00020 | Loss 0.2515 | Train Acc 0.9160 | Speed (samples/sec) 275.8963 | GPU 6402.8 MB\n",
      "Epoch 00008 | Step 00040 | Loss 0.2764 | Train Acc 0.9141 | Speed (samples/sec) 276.1576 | GPU 6402.8 MB\n",
      "Epoch 00008 | Step 00060 | Loss 0.2371 | Train Acc 0.9219 | Speed (samples/sec) 276.4396 | GPU 6402.8 MB\n",
      "Epoch 00008 | Step 00080 | Loss 0.2139 | Train Acc 0.9355 | Speed (samples/sec) 276.6384 | GPU 6402.8 MB\n",
      "Epoch 00008 | Step 00100 | Loss 0.2610 | Train Acc 0.9238 | Speed (samples/sec) 277.0186 | GPU 6402.8 MB\n",
      "Epoch 00008 | Step 00120 | Loss 0.2652 | Train Acc 0.9180 | Speed (samples/sec) 277.3303 | GPU 6402.8 MB\n",
      "Epoch 00008 | Step 00140 | Loss 0.2615 | Train Acc 0.9258 | Speed (samples/sec) 277.5722 | GPU 6402.8 MB\n",
      "Epoch 00008 | Step 00160 | Loss 0.2810 | Train Acc 0.9121 | Speed (samples/sec) 277.8537 | GPU 6402.8 MB\n",
      "Epoch 00008 | Step 00180 | Loss 0.3020 | Train Acc 0.9082 | Speed (samples/sec) 278.0880 | GPU 6402.8 MB\n",
      "Epoch 00008 | Step 00200 | Loss 0.3102 | Train Acc 0.9082 | Speed (samples/sec) 278.3142 | GPU 6402.8 MB\n",
      "Epoch 00008 | Step 00220 | Loss 0.2540 | Train Acc 0.9180 | Speed (samples/sec) 278.5440 | GPU 6402.8 MB\n",
      "Epoch 00008 | Step 00240 | Loss 0.2339 | Train Acc 0.9316 | Speed (samples/sec) 278.8360 | GPU 6402.8 MB\n",
      "Epoch 00008 | Step 00260 | Loss 0.2608 | Train Acc 0.9160 | Speed (samples/sec) 279.1614 | GPU 6402.8 MB\n",
      "Epoch 00008 | Step 00280 | Loss 0.2196 | Train Acc 0.9355 | Speed (samples/sec) 279.4052 | GPU 6402.8 MB\n",
      "Epoch 00008 | Step 00300 | Loss 0.2755 | Train Acc 0.9141 | Speed (samples/sec) 279.6299 | GPU 6402.8 MB\n",
      "Epoch 00008 | Step 00320 | Loss 0.2589 | Train Acc 0.9160 | Speed (samples/sec) 279.8690 | GPU 6402.8 MB\n",
      "Epoch 00008 | Step 00340 | Loss 0.3163 | Train Acc 0.9121 | Speed (samples/sec) 280.1036 | GPU 6402.8 MB\n",
      "Epoch 00008 | Step 00360 | Loss 0.3493 | Train Acc 0.8945 | Speed (samples/sec) 280.3054 | GPU 6402.8 MB\n",
      "Epoch 00008 | Step 00380 | Loss 0.2307 | Train Acc 0.9297 | Speed (samples/sec) 280.6152 | GPU 6402.8 MB\n",
      "Epoch Time(s): 615.7945\n"
     ]
    },
    {
     "name": "stderr",
     "output_type": "stream",
     "text": [
      "100%|██████████| 245/245 [00:43<00:00,  5.60it/s]\n",
      "100%|██████████| 245/245 [01:56<00:00,  2.10it/s]\n",
      "100%|██████████| 245/245 [01:44<00:00,  2.34it/s]\n"
     ]
    },
    {
     "name": "stdout",
     "output_type": "stream",
     "text": [
      "Val acc 0.9190, Test Acc: 0.7872\n",
      "Epoch 00009 | Step 00000 | Loss 0.2513 | Train Acc 0.9316 | Speed (samples/sec) 280.6040 | GPU 6402.8 MB\n",
      "Epoch 00009 | Step 00020 | Loss 0.2830 | Train Acc 0.9102 | Speed (samples/sec) 280.8092 | GPU 6402.8 MB\n",
      "Epoch 00009 | Step 00040 | Loss 0.2170 | Train Acc 0.9355 | Speed (samples/sec) 281.0451 | GPU 6402.8 MB\n",
      "Epoch 00009 | Step 00060 | Loss 0.2716 | Train Acc 0.9258 | Speed (samples/sec) 281.2529 | GPU 6402.8 MB\n",
      "Epoch 00009 | Step 00080 | Loss 0.2784 | Train Acc 0.9062 | Speed (samples/sec) 281.4979 | GPU 6402.8 MB\n",
      "Epoch 00009 | Step 00100 | Loss 0.2202 | Train Acc 0.9316 | Speed (samples/sec) 281.6537 | GPU 6402.8 MB\n",
      "Epoch 00009 | Step 00120 | Loss 0.2930 | Train Acc 0.9297 | Speed (samples/sec) 281.8639 | GPU 6402.8 MB\n",
      "Epoch 00009 | Step 00140 | Loss 0.2651 | Train Acc 0.9219 | Speed (samples/sec) 282.0559 | GPU 6402.8 MB\n",
      "Epoch 00009 | Step 00160 | Loss 0.2315 | Train Acc 0.9355 | Speed (samples/sec) 282.2639 | GPU 6402.8 MB\n",
      "Epoch 00009 | Step 00180 | Loss 0.2297 | Train Acc 0.9375 | Speed (samples/sec) 282.4492 | GPU 6402.8 MB\n",
      "Epoch 00009 | Step 00200 | Loss 0.2494 | Train Acc 0.9336 | Speed (samples/sec) 282.6777 | GPU 6402.8 MB\n",
      "Epoch 00009 | Step 00220 | Loss 0.2994 | Train Acc 0.9062 | Speed (samples/sec) 282.9038 | GPU 6402.8 MB\n",
      "Epoch 00009 | Step 00240 | Loss 0.2346 | Train Acc 0.9238 | Speed (samples/sec) 283.0620 | GPU 6402.8 MB\n",
      "Epoch 00009 | Step 00260 | Loss 0.2808 | Train Acc 0.9180 | Speed (samples/sec) 283.2896 | GPU 6402.8 MB\n",
      "Epoch 00009 | Step 00280 | Loss 0.2470 | Train Acc 0.9277 | Speed (samples/sec) 283.5988 | GPU 6402.8 MB\n",
      "Epoch 00009 | Step 00300 | Loss 0.3338 | Train Acc 0.8965 | Speed (samples/sec) 283.8608 | GPU 6402.8 MB\n",
      "Epoch 00009 | Step 00320 | Loss 0.3384 | Train Acc 0.8867 | Speed (samples/sec) 284.0599 | GPU 6402.8 MB\n",
      "Epoch 00009 | Step 00340 | Loss 0.1835 | Train Acc 0.9395 | Speed (samples/sec) 284.2609 | GPU 6402.8 MB\n",
      "Epoch 00009 | Step 00360 | Loss 0.3297 | Train Acc 0.9062 | Speed (samples/sec) 284.4612 | GPU 6402.8 MB\n",
      "Epoch 00009 | Step 00380 | Loss 0.2579 | Train Acc 0.9375 | Speed (samples/sec) 284.6700 | GPU 6402.8 MB\n",
      "Epoch Time(s): 614.4111\n"
     ]
    },
    {
     "name": "stderr",
     "output_type": "stream",
     "text": [
      "100%|██████████| 245/245 [00:41<00:00,  5.97it/s]\n",
      "100%|██████████| 245/245 [01:55<00:00,  2.13it/s]\n",
      "100%|██████████| 245/245 [01:46<00:00,  2.31it/s]\n"
     ]
    },
    {
     "name": "stdout",
     "output_type": "stream",
     "text": [
      "Val acc 0.9163, Test Acc: 0.7988\n",
      "Epoch 00010 | Step 00000 | Loss 0.2557 | Train Acc 0.9258 | Speed (samples/sec) 284.6502 | GPU 6402.8 MB\n",
      "Epoch 00010 | Step 00020 | Loss 0.2117 | Train Acc 0.9199 | Speed (samples/sec) 284.8070 | GPU 6402.8 MB\n",
      "Epoch 00010 | Step 00040 | Loss 0.1918 | Train Acc 0.9355 | Speed (samples/sec) 284.9721 | GPU 6402.8 MB\n",
      "Epoch 00010 | Step 00060 | Loss 0.3631 | Train Acc 0.9043 | Speed (samples/sec) 285.1955 | GPU 6402.8 MB\n",
      "Epoch 00010 | Step 00080 | Loss 0.2713 | Train Acc 0.9102 | Speed (samples/sec) 285.4029 | GPU 6402.8 MB\n",
      "Epoch 00010 | Step 00100 | Loss 0.2405 | Train Acc 0.9355 | Speed (samples/sec) 285.5895 | GPU 6402.8 MB\n",
      "Epoch 00010 | Step 00120 | Loss 0.2419 | Train Acc 0.9219 | Speed (samples/sec) 285.7673 | GPU 6402.8 MB\n",
      "Epoch 00010 | Step 00140 | Loss 0.2538 | Train Acc 0.9219 | Speed (samples/sec) 285.9613 | GPU 6402.8 MB\n",
      "Epoch 00010 | Step 00160 | Loss 0.3255 | Train Acc 0.9062 | Speed (samples/sec) 286.1262 | GPU 6402.8 MB\n",
      "Epoch 00010 | Step 00180 | Loss 0.2761 | Train Acc 0.9121 | Speed (samples/sec) 286.3072 | GPU 6402.8 MB\n",
      "Epoch 00010 | Step 00200 | Loss 0.3068 | Train Acc 0.9102 | Speed (samples/sec) 286.4834 | GPU 6402.8 MB\n",
      "Epoch 00010 | Step 00220 | Loss 0.2414 | Train Acc 0.9336 | Speed (samples/sec) 286.7278 | GPU 6402.8 MB\n",
      "Epoch 00010 | Step 00240 | Loss 0.3609 | Train Acc 0.9004 | Speed (samples/sec) 286.9223 | GPU 6402.8 MB\n",
      "Epoch 00010 | Step 00260 | Loss 0.2313 | Train Acc 0.9258 | Speed (samples/sec) 287.0385 | GPU 6402.8 MB\n",
      "Epoch 00010 | Step 00280 | Loss 0.2446 | Train Acc 0.9141 | Speed (samples/sec) 287.2856 | GPU 6402.8 MB\n",
      "Epoch 00010 | Step 00300 | Loss 0.2057 | Train Acc 0.9316 | Speed (samples/sec) 287.5508 | GPU 6402.8 MB\n",
      "Epoch 00010 | Step 00320 | Loss 0.2808 | Train Acc 0.9277 | Speed (samples/sec) 287.7182 | GPU 6402.8 MB\n",
      "Epoch 00010 | Step 00340 | Loss 0.3041 | Train Acc 0.9082 | Speed (samples/sec) 287.8254 | GPU 6402.8 MB\n",
      "Epoch 00010 | Step 00360 | Loss 0.3090 | Train Acc 0.9180 | Speed (samples/sec) 287.9539 | GPU 6402.8 MB\n",
      "Epoch 00010 | Step 00380 | Loss 0.2798 | Train Acc 0.9219 | Speed (samples/sec) 288.1305 | GPU 6402.8 MB\n",
      "Epoch Time(s): 610.9414\n"
     ]
    },
    {
     "name": "stderr",
     "output_type": "stream",
     "text": [
      "100%|██████████| 245/245 [00:42<00:00,  5.83it/s]\n",
      "100%|██████████| 245/245 [01:54<00:00,  2.14it/s]\n",
      "100%|██████████| 245/245 [01:46<00:00,  2.31it/s]\n"
     ]
    },
    {
     "name": "stdout",
     "output_type": "stream",
     "text": [
      "Val acc 0.9190, Test Acc: 0.7875\n",
      "Epoch 00011 | Step 00000 | Loss 0.2109 | Train Acc 0.9355 | Speed (samples/sec) 288.1144 | GPU 6402.8 MB\n",
      "Epoch 00011 | Step 00020 | Loss 0.3233 | Train Acc 0.9102 | Speed (samples/sec) 288.2585 | GPU 6402.8 MB\n",
      "Epoch 00011 | Step 00040 | Loss 0.2986 | Train Acc 0.9004 | Speed (samples/sec) 288.4151 | GPU 6402.8 MB\n",
      "Epoch 00011 | Step 00060 | Loss 0.2273 | Train Acc 0.9355 | Speed (samples/sec) 288.5492 | GPU 6402.8 MB\n",
      "Epoch 00011 | Step 00080 | Loss 0.2122 | Train Acc 0.9395 | Speed (samples/sec) 288.6870 | GPU 6402.8 MB\n",
      "Epoch 00011 | Step 00100 | Loss 0.2514 | Train Acc 0.9219 | Speed (samples/sec) 288.8677 | GPU 6402.8 MB\n",
      "Epoch 00011 | Step 00120 | Loss 0.2220 | Train Acc 0.9355 | Speed (samples/sec) 289.0491 | GPU 6402.8 MB\n",
      "Epoch 00011 | Step 00140 | Loss 0.2608 | Train Acc 0.9219 | Speed (samples/sec) 289.2288 | GPU 6402.8 MB\n",
      "Epoch 00011 | Step 00160 | Loss 0.3292 | Train Acc 0.9180 | Speed (samples/sec) 289.4147 | GPU 6402.8 MB\n",
      "Epoch 00011 | Step 00180 | Loss 0.2772 | Train Acc 0.9277 | Speed (samples/sec) 289.5557 | GPU 6402.8 MB\n",
      "Epoch 00011 | Step 00200 | Loss 0.2199 | Train Acc 0.9414 | Speed (samples/sec) 289.7429 | GPU 6402.8 MB\n",
      "Epoch 00011 | Step 00220 | Loss 0.2427 | Train Acc 0.9199 | Speed (samples/sec) 289.9556 | GPU 6402.8 MB\n",
      "Epoch 00011 | Step 00240 | Loss 0.2519 | Train Acc 0.9199 | Speed (samples/sec) 290.1462 | GPU 6402.8 MB\n",
      "Epoch 00011 | Step 00260 | Loss 0.2920 | Train Acc 0.9199 | Speed (samples/sec) 290.3249 | GPU 6402.8 MB\n",
      "Epoch 00011 | Step 00280 | Loss 0.2747 | Train Acc 0.9121 | Speed (samples/sec) 290.5163 | GPU 6402.8 MB\n",
      "Epoch 00011 | Step 00300 | Loss 0.3155 | Train Acc 0.9121 | Speed (samples/sec) 290.7524 | GPU 6402.8 MB\n",
      "Epoch 00011 | Step 00320 | Loss 0.2598 | Train Acc 0.9219 | Speed (samples/sec) 291.0108 | GPU 6402.8 MB\n",
      "Epoch 00011 | Step 00340 | Loss 0.2426 | Train Acc 0.9219 | Speed (samples/sec) 291.2383 | GPU 6402.8 MB\n",
      "Epoch 00011 | Step 00360 | Loss 0.2560 | Train Acc 0.9141 | Speed (samples/sec) 291.4752 | GPU 6402.8 MB\n",
      "Epoch 00011 | Step 00380 | Loss 0.1648 | Train Acc 0.9531 | Speed (samples/sec) 291.7170 | GPU 6402.8 MB\n",
      "Epoch Time(s): 595.0373\n"
     ]
    },
    {
     "name": "stderr",
     "output_type": "stream",
     "text": [
      "100%|██████████| 245/245 [00:39<00:00,  6.28it/s]\n",
      "100%|██████████| 245/245 [01:50<00:00,  2.21it/s]\n",
      "100%|██████████| 245/245 [01:41<00:00,  2.42it/s]\n"
     ]
    },
    {
     "name": "stdout",
     "output_type": "stream",
     "text": [
      "Val acc 0.9182, Test Acc: 0.7919\n",
      "Epoch 00012 | Step 00000 | Loss 0.2566 | Train Acc 0.9180 | Speed (samples/sec) 291.7320 | GPU 6402.8 MB\n",
      "Epoch 00012 | Step 00020 | Loss 0.2703 | Train Acc 0.9238 | Speed (samples/sec) 291.9373 | GPU 6402.8 MB\n",
      "Epoch 00012 | Step 00040 | Loss 0.2148 | Train Acc 0.9375 | Speed (samples/sec) 292.1379 | GPU 6402.8 MB\n",
      "Epoch 00012 | Step 00060 | Loss 0.2682 | Train Acc 0.9141 | Speed (samples/sec) 292.3776 | GPU 6402.8 MB\n",
      "Epoch 00012 | Step 00080 | Loss 0.2586 | Train Acc 0.9199 | Speed (samples/sec) 292.5771 | GPU 6402.8 MB\n",
      "Epoch 00012 | Step 00100 | Loss 0.2203 | Train Acc 0.9375 | Speed (samples/sec) 292.8009 | GPU 6402.8 MB\n",
      "Epoch 00012 | Step 00120 | Loss 0.2887 | Train Acc 0.8984 | Speed (samples/sec) 293.0230 | GPU 6402.8 MB\n",
      "Epoch 00012 | Step 00140 | Loss 0.3303 | Train Acc 0.9180 | Speed (samples/sec) 293.2209 | GPU 6402.8 MB\n",
      "Epoch 00012 | Step 00160 | Loss 0.2782 | Train Acc 0.9316 | Speed (samples/sec) 293.4201 | GPU 6402.8 MB\n",
      "Epoch 00012 | Step 00180 | Loss 0.2194 | Train Acc 0.9277 | Speed (samples/sec) 293.5968 | GPU 6402.8 MB\n",
      "Epoch 00012 | Step 00200 | Loss 0.2667 | Train Acc 0.9160 | Speed (samples/sec) 293.7691 | GPU 6408.6 MB\n",
      "Epoch 00012 | Step 00220 | Loss 0.2065 | Train Acc 0.9277 | Speed (samples/sec) 293.9783 | GPU 6408.6 MB\n",
      "Epoch 00012 | Step 00240 | Loss 0.2528 | Train Acc 0.9238 | Speed (samples/sec) 294.1737 | GPU 6408.6 MB\n",
      "Epoch 00012 | Step 00260 | Loss 0.2678 | Train Acc 0.9258 | Speed (samples/sec) 294.3403 | GPU 6408.6 MB\n",
      "Epoch 00012 | Step 00280 | Loss 0.2557 | Train Acc 0.9141 | Speed (samples/sec) 294.5283 | GPU 6408.6 MB\n",
      "Epoch 00012 | Step 00300 | Loss 0.2503 | Train Acc 0.9238 | Speed (samples/sec) 294.7327 | GPU 6408.6 MB\n",
      "Epoch 00012 | Step 00320 | Loss 0.2628 | Train Acc 0.9180 | Speed (samples/sec) 294.9648 | GPU 6408.6 MB\n",
      "Epoch 00012 | Step 00340 | Loss 0.2287 | Train Acc 0.9258 | Speed (samples/sec) 295.1742 | GPU 6408.6 MB\n",
      "Epoch 00012 | Step 00360 | Loss 0.2466 | Train Acc 0.9316 | Speed (samples/sec) 295.3278 | GPU 6408.6 MB\n",
      "Epoch 00012 | Step 00380 | Loss 0.2601 | Train Acc 0.9199 | Speed (samples/sec) 295.5169 | GPU 6408.6 MB\n",
      "Epoch Time(s): 577.9476\n"
     ]
    },
    {
     "name": "stderr",
     "output_type": "stream",
     "text": [
      "100%|██████████| 245/245 [00:38<00:00,  6.32it/s]\n",
      "100%|██████████| 245/245 [01:50<00:00,  2.22it/s]\n",
      "100%|██████████| 245/245 [01:40<00:00,  2.44it/s]\n"
     ]
    },
    {
     "name": "stdout",
     "output_type": "stream",
     "text": [
      "Val acc 0.9187, Test Acc: 0.7838\n",
      "Epoch 00013 | Step 00000 | Loss 0.2771 | Train Acc 0.9102 | Speed (samples/sec) 295.5005 | GPU 6408.6 MB\n",
      "Epoch 00013 | Step 00020 | Loss 0.2884 | Train Acc 0.9160 | Speed (samples/sec) 295.6865 | GPU 6408.6 MB\n",
      "Epoch 00013 | Step 00040 | Loss 0.2242 | Train Acc 0.9414 | Speed (samples/sec) 295.9347 | GPU 6412.1 MB\n",
      "Epoch 00013 | Step 00060 | Loss 0.2589 | Train Acc 0.9199 | Speed (samples/sec) 296.1849 | GPU 6412.1 MB\n",
      "Epoch 00013 | Step 00080 | Loss 0.2406 | Train Acc 0.9199 | Speed (samples/sec) 296.4666 | GPU 6412.1 MB\n",
      "Epoch 00013 | Step 00100 | Loss 0.2464 | Train Acc 0.9121 | Speed (samples/sec) 296.7059 | GPU 6412.1 MB\n",
      "Epoch 00013 | Step 00120 | Loss 0.2772 | Train Acc 0.9121 | Speed (samples/sec) 296.9305 | GPU 6412.1 MB\n",
      "Epoch 00013 | Step 00140 | Loss 0.2590 | Train Acc 0.9219 | Speed (samples/sec) 297.1542 | GPU 6412.1 MB\n",
      "Epoch 00013 | Step 00160 | Loss 0.2662 | Train Acc 0.9238 | Speed (samples/sec) 297.3991 | GPU 6412.1 MB\n",
      "Epoch 00013 | Step 00180 | Loss 0.2546 | Train Acc 0.9180 | Speed (samples/sec) 297.6282 | GPU 6412.1 MB\n",
      "Epoch 00013 | Step 00200 | Loss 0.3078 | Train Acc 0.8984 | Speed (samples/sec) 297.8666 | GPU 6412.1 MB\n",
      "Epoch 00013 | Step 00220 | Loss 0.1970 | Train Acc 0.9434 | Speed (samples/sec) 298.1022 | GPU 6412.1 MB\n",
      "Epoch 00013 | Step 00240 | Loss 0.2210 | Train Acc 0.9180 | Speed (samples/sec) 298.3634 | GPU 6412.1 MB\n",
      "Epoch 00013 | Step 00260 | Loss 0.2700 | Train Acc 0.9141 | Speed (samples/sec) 298.5959 | GPU 6412.1 MB\n",
      "Epoch 00013 | Step 00280 | Loss 0.3041 | Train Acc 0.9004 | Speed (samples/sec) 298.8370 | GPU 6412.1 MB\n",
      "Epoch 00013 | Step 00300 | Loss 0.2336 | Train Acc 0.9297 | Speed (samples/sec) 299.0922 | GPU 6412.1 MB\n",
      "Epoch 00013 | Step 00320 | Loss 0.2707 | Train Acc 0.9238 | Speed (samples/sec) 299.3114 | GPU 6412.1 MB\n",
      "Epoch 00013 | Step 00340 | Loss 0.2356 | Train Acc 0.9375 | Speed (samples/sec) 299.5340 | GPU 6412.1 MB\n",
      "Epoch 00013 | Step 00360 | Loss 0.2808 | Train Acc 0.9180 | Speed (samples/sec) 299.7581 | GPU 6412.1 MB\n",
      "Epoch 00013 | Step 00380 | Loss 0.2441 | Train Acc 0.9238 | Speed (samples/sec) 299.9868 | GPU 6412.1 MB\n",
      "Epoch Time(s): 549.4587\n"
     ]
    },
    {
     "name": "stderr",
     "output_type": "stream",
     "text": [
      "100%|██████████| 245/245 [00:36<00:00,  6.64it/s]\n",
      "100%|██████████| 245/245 [01:45<00:00,  2.32it/s]\n",
      "100%|██████████| 245/245 [01:38<00:00,  2.48it/s]\n"
     ]
    },
    {
     "name": "stdout",
     "output_type": "stream",
     "text": [
      "Val acc 0.9180, Test Acc: 0.7928\n",
      "Epoch 00014 | Step 00000 | Loss 0.2404 | Train Acc 0.9238 | Speed (samples/sec) 299.9893 | GPU 6412.1 MB\n",
      "Epoch 00014 | Step 00020 | Loss 0.2142 | Train Acc 0.9199 | Speed (samples/sec) 300.1816 | GPU 6412.1 MB\n",
      "Epoch 00014 | Step 00040 | Loss 0.2297 | Train Acc 0.9316 | Speed (samples/sec) 300.3798 | GPU 6412.1 MB\n",
      "Epoch 00014 | Step 00060 | Loss 0.2018 | Train Acc 0.9395 | Speed (samples/sec) 300.5743 | GPU 6412.1 MB\n",
      "Epoch 00014 | Step 00080 | Loss 0.2435 | Train Acc 0.9238 | Speed (samples/sec) 300.8212 | GPU 6412.1 MB\n",
      "Epoch 00014 | Step 00100 | Loss 0.2029 | Train Acc 0.9414 | Speed (samples/sec) 301.0467 | GPU 6412.1 MB\n",
      "Epoch 00014 | Step 00120 | Loss 0.2378 | Train Acc 0.9277 | Speed (samples/sec) 301.2535 | GPU 6412.1 MB\n",
      "Epoch 00014 | Step 00140 | Loss 0.2247 | Train Acc 0.9355 | Speed (samples/sec) 301.4945 | GPU 6412.1 MB\n",
      "Epoch 00014 | Step 00160 | Loss 0.2152 | Train Acc 0.9453 | Speed (samples/sec) 301.6950 | GPU 6412.1 MB\n",
      "Epoch 00014 | Step 00180 | Loss 0.2690 | Train Acc 0.9062 | Speed (samples/sec) 301.9155 | GPU 6412.1 MB\n",
      "Epoch 00014 | Step 00200 | Loss 0.2691 | Train Acc 0.9160 | Speed (samples/sec) 302.1510 | GPU 6412.1 MB\n",
      "Epoch 00014 | Step 00220 | Loss 0.2093 | Train Acc 0.9355 | Speed (samples/sec) 302.3561 | GPU 6412.1 MB\n",
      "Epoch 00014 | Step 00240 | Loss 0.2214 | Train Acc 0.9336 | Speed (samples/sec) 302.5431 | GPU 6412.1 MB\n",
      "Epoch 00014 | Step 00260 | Loss 0.2924 | Train Acc 0.9102 | Speed (samples/sec) 302.7571 | GPU 6412.1 MB\n",
      "Epoch 00014 | Step 00280 | Loss 0.2092 | Train Acc 0.9316 | Speed (samples/sec) 303.0018 | GPU 6412.1 MB\n",
      "Epoch 00014 | Step 00300 | Loss 0.2608 | Train Acc 0.9180 | Speed (samples/sec) 303.2141 | GPU 6412.1 MB\n",
      "Epoch 00014 | Step 00320 | Loss 0.2540 | Train Acc 0.9375 | Speed (samples/sec) 303.4424 | GPU 6412.1 MB\n",
      "Epoch 00014 | Step 00340 | Loss 0.3125 | Train Acc 0.9199 | Speed (samples/sec) 303.6668 | GPU 6412.1 MB\n",
      "Epoch 00014 | Step 00360 | Loss 0.2499 | Train Acc 0.9238 | Speed (samples/sec) 303.8827 | GPU 6412.1 MB\n",
      "Epoch 00014 | Step 00380 | Loss 0.2896 | Train Acc 0.9102 | Speed (samples/sec) 304.1205 | GPU 6412.1 MB\n",
      "Epoch Time(s): 543.7591\n"
     ]
    },
    {
     "name": "stderr",
     "output_type": "stream",
     "text": [
      "100%|██████████| 245/245 [00:34<00:00,  7.01it/s]\n",
      "100%|██████████| 245/245 [01:48<00:00,  2.26it/s]\n",
      "100%|██████████| 245/245 [01:38<00:00,  2.50it/s]\n"
     ]
    },
    {
     "name": "stdout",
     "output_type": "stream",
     "text": [
      "Val acc 0.9185, Test Acc: 0.7916\n",
      "Epoch 00015 | Step 00000 | Loss 0.2357 | Train Acc 0.9180 | Speed (samples/sec) 304.1365 | GPU 6412.1 MB\n",
      "Epoch 00015 | Step 00020 | Loss 0.2347 | Train Acc 0.9355 | Speed (samples/sec) 304.3012 | GPU 6412.1 MB\n",
      "Epoch 00015 | Step 00040 | Loss 0.2338 | Train Acc 0.9297 | Speed (samples/sec) 304.5027 | GPU 6412.1 MB\n",
      "Epoch 00015 | Step 00060 | Loss 0.2539 | Train Acc 0.9297 | Speed (samples/sec) 304.7084 | GPU 6412.1 MB\n",
      "Epoch 00015 | Step 00080 | Loss 0.2077 | Train Acc 0.9355 | Speed (samples/sec) 304.9047 | GPU 6412.1 MB\n",
      "Epoch 00015 | Step 00100 | Loss 0.2490 | Train Acc 0.9180 | Speed (samples/sec) 305.0967 | GPU 6412.1 MB\n",
      "Epoch 00015 | Step 00120 | Loss 0.2447 | Train Acc 0.9238 | Speed (samples/sec) 305.3213 | GPU 6412.1 MB\n",
      "Epoch 00015 | Step 00140 | Loss 0.2549 | Train Acc 0.9277 | Speed (samples/sec) 305.4954 | GPU 6412.1 MB\n",
      "Epoch 00015 | Step 00160 | Loss 0.2527 | Train Acc 0.9258 | Speed (samples/sec) 305.6936 | GPU 6412.1 MB\n",
      "Epoch 00015 | Step 00180 | Loss 0.2512 | Train Acc 0.9219 | Speed (samples/sec) 305.9187 | GPU 6412.1 MB\n",
      "Epoch 00015 | Step 00200 | Loss 0.2871 | Train Acc 0.9160 | Speed (samples/sec) 306.0981 | GPU 6412.1 MB\n",
      "Epoch 00015 | Step 00220 | Loss 0.2269 | Train Acc 0.9258 | Speed (samples/sec) 306.2855 | GPU 6412.1 MB\n",
      "Epoch 00015 | Step 00240 | Loss 0.3191 | Train Acc 0.9023 | Speed (samples/sec) 306.4920 | GPU 6412.1 MB\n",
      "Epoch 00015 | Step 00260 | Loss 0.2550 | Train Acc 0.9141 | Speed (samples/sec) 306.7242 | GPU 6412.1 MB\n",
      "Epoch 00015 | Step 00280 | Loss 0.2120 | Train Acc 0.9453 | Speed (samples/sec) 306.9337 | GPU 6412.1 MB\n",
      "Epoch 00015 | Step 00300 | Loss 0.2320 | Train Acc 0.9316 | Speed (samples/sec) 307.1840 | GPU 6412.1 MB\n",
      "Epoch 00015 | Step 00320 | Loss 0.2314 | Train Acc 0.9375 | Speed (samples/sec) 307.4691 | GPU 6412.1 MB\n",
      "Epoch 00015 | Step 00340 | Loss 0.2597 | Train Acc 0.9238 | Speed (samples/sec) 307.7709 | GPU 6412.1 MB\n",
      "Epoch 00015 | Step 00360 | Loss 0.2774 | Train Acc 0.9316 | Speed (samples/sec) 308.0185 | GPU 6412.1 MB\n",
      "Epoch 00015 | Step 00380 | Loss 0.2515 | Train Acc 0.9316 | Speed (samples/sec) 308.2542 | GPU 6412.1 MB\n",
      "Epoch Time(s): 532.3824\n"
     ]
    },
    {
     "name": "stderr",
     "output_type": "stream",
     "text": [
      "100%|██████████| 245/245 [00:35<00:00,  6.95it/s]\n",
      "100%|██████████| 245/245 [01:44<00:00,  2.36it/s]\n",
      "100%|██████████| 245/245 [01:25<00:00,  2.88it/s]\n"
     ]
    },
    {
     "name": "stdout",
     "output_type": "stream",
     "text": [
      "Val acc 0.9194, Test Acc: 0.7824\n",
      "Epoch 00016 | Step 00000 | Loss 0.2959 | Train Acc 0.9004 | Speed (samples/sec) 308.2684 | GPU 6412.1 MB\n",
      "Epoch 00016 | Step 00020 | Loss 0.2701 | Train Acc 0.9199 | Speed (samples/sec) 308.6758 | GPU 6412.1 MB\n",
      "Epoch 00016 | Step 00040 | Loss 0.2275 | Train Acc 0.9082 | Speed (samples/sec) 309.0922 | GPU 6412.1 MB\n",
      "Epoch 00016 | Step 00060 | Loss 0.2052 | Train Acc 0.9395 | Speed (samples/sec) 309.4918 | GPU 6412.1 MB\n",
      "Epoch 00016 | Step 00080 | Loss 0.2069 | Train Acc 0.9355 | Speed (samples/sec) 309.8921 | GPU 6412.1 MB\n",
      "Epoch 00016 | Step 00100 | Loss 0.2183 | Train Acc 0.9375 | Speed (samples/sec) 310.3151 | GPU 6412.1 MB\n",
      "Epoch 00016 | Step 00120 | Loss 0.2313 | Train Acc 0.9355 | Speed (samples/sec) 310.7360 | GPU 6412.1 MB\n",
      "Epoch 00016 | Step 00140 | Loss 0.2334 | Train Acc 0.9160 | Speed (samples/sec) 311.1451 | GPU 6412.1 MB\n",
      "Epoch 00016 | Step 00160 | Loss 0.3103 | Train Acc 0.8965 | Speed (samples/sec) 311.5617 | GPU 6412.1 MB\n",
      "Epoch 00016 | Step 00180 | Loss 0.2335 | Train Acc 0.9258 | Speed (samples/sec) 311.9618 | GPU 6412.1 MB\n",
      "Epoch 00016 | Step 00200 | Loss 0.2319 | Train Acc 0.9355 | Speed (samples/sec) 312.3728 | GPU 6412.1 MB\n",
      "Epoch 00016 | Step 00220 | Loss 0.2203 | Train Acc 0.9316 | Speed (samples/sec) 312.7776 | GPU 6412.1 MB\n",
      "Epoch 00016 | Step 00240 | Loss 0.2477 | Train Acc 0.9199 | Speed (samples/sec) 313.1491 | GPU 6412.1 MB\n",
      "Epoch 00016 | Step 00260 | Loss 0.2901 | Train Acc 0.9102 | Speed (samples/sec) 313.5459 | GPU 6412.1 MB\n",
      "Epoch 00016 | Step 00280 | Loss 0.2661 | Train Acc 0.9141 | Speed (samples/sec) 313.9450 | GPU 6412.1 MB\n",
      "Epoch 00016 | Step 00300 | Loss 0.1993 | Train Acc 0.9453 | Speed (samples/sec) 314.3054 | GPU 6412.1 MB\n",
      "Epoch 00016 | Step 00320 | Loss 0.2729 | Train Acc 0.9062 | Speed (samples/sec) 314.6920 | GPU 6412.1 MB\n",
      "Epoch 00016 | Step 00340 | Loss 0.2836 | Train Acc 0.9141 | Speed (samples/sec) 315.0830 | GPU 6412.1 MB\n",
      "Epoch 00016 | Step 00360 | Loss 0.2566 | Train Acc 0.9219 | Speed (samples/sec) 315.4601 | GPU 6412.1 MB\n",
      "Epoch 00016 | Step 00380 | Loss 0.2446 | Train Acc 0.9297 | Speed (samples/sec) 315.8470 | GPU 6412.1 MB\n",
      "Epoch Time(s): 448.6769\n"
     ]
    },
    {
     "name": "stderr",
     "output_type": "stream",
     "text": [
      "100%|██████████| 245/245 [00:29<00:00,  8.42it/s]\n",
      "100%|██████████| 245/245 [01:33<00:00,  2.61it/s]\n",
      "100%|██████████| 245/245 [01:25<00:00,  2.87it/s]\n"
     ]
    },
    {
     "name": "stdout",
     "output_type": "stream",
     "text": [
      "Val acc 0.9189, Test Acc: 0.7885\n",
      "Epoch 00017 | Step 00000 | Loss 0.1821 | Train Acc 0.9492 | Speed (samples/sec) 315.8967 | GPU 6412.1 MB\n",
      "Epoch 00017 | Step 00020 | Loss 0.2021 | Train Acc 0.9395 | Speed (samples/sec) 316.2516 | GPU 6412.1 MB\n",
      "Epoch 00017 | Step 00040 | Loss 0.2424 | Train Acc 0.9199 | Speed (samples/sec) 316.6218 | GPU 6412.1 MB\n",
      "Epoch 00017 | Step 00060 | Loss 0.2875 | Train Acc 0.9062 | Speed (samples/sec) 316.9821 | GPU 6412.1 MB\n",
      "Epoch 00017 | Step 00080 | Loss 0.2229 | Train Acc 0.9277 | Speed (samples/sec) 317.3424 | GPU 6412.1 MB\n",
      "Epoch 00017 | Step 00100 | Loss 0.2812 | Train Acc 0.9199 | Speed (samples/sec) 317.7146 | GPU 6412.1 MB\n",
      "Epoch 00017 | Step 00120 | Loss 0.2795 | Train Acc 0.9062 | Speed (samples/sec) 318.0830 | GPU 6412.1 MB\n",
      "Epoch 00017 | Step 00140 | Loss 0.2809 | Train Acc 0.9238 | Speed (samples/sec) 318.4606 | GPU 6412.1 MB\n",
      "Epoch 00017 | Step 00160 | Loss 0.2062 | Train Acc 0.9414 | Speed (samples/sec) 318.8199 | GPU 6412.1 MB\n",
      "Epoch 00017 | Step 00180 | Loss 0.2552 | Train Acc 0.9258 | Speed (samples/sec) 319.1807 | GPU 6412.1 MB\n",
      "Epoch 00017 | Step 00200 | Loss 0.1785 | Train Acc 0.9473 | Speed (samples/sec) 319.5495 | GPU 6412.1 MB\n",
      "Epoch 00017 | Step 00220 | Loss 0.2636 | Train Acc 0.9297 | Speed (samples/sec) 319.9090 | GPU 6412.1 MB\n",
      "Epoch 00017 | Step 00240 | Loss 0.2056 | Train Acc 0.9395 | Speed (samples/sec) 320.2566 | GPU 6412.1 MB\n",
      "Epoch 00017 | Step 00260 | Loss 0.2849 | Train Acc 0.9043 | Speed (samples/sec) 320.6089 | GPU 6412.1 MB\n",
      "Epoch 00017 | Step 00280 | Loss 0.2118 | Train Acc 0.9375 | Speed (samples/sec) 320.9540 | GPU 6412.1 MB\n",
      "Epoch 00017 | Step 00300 | Loss 0.2035 | Train Acc 0.9492 | Speed (samples/sec) 321.3021 | GPU 6412.1 MB\n",
      "Epoch 00017 | Step 00320 | Loss 0.2743 | Train Acc 0.9141 | Speed (samples/sec) 321.6497 | GPU 6412.1 MB\n",
      "Epoch 00017 | Step 00340 | Loss 0.2322 | Train Acc 0.9160 | Speed (samples/sec) 322.0022 | GPU 6412.1 MB\n",
      "Epoch 00017 | Step 00360 | Loss 0.2453 | Train Acc 0.9297 | Speed (samples/sec) 322.3466 | GPU 6412.1 MB\n",
      "Epoch 00017 | Step 00380 | Loss 0.2497 | Train Acc 0.9355 | Speed (samples/sec) 322.6886 | GPU 6412.1 MB\n",
      "Epoch Time(s): 447.5345\n"
     ]
    },
    {
     "name": "stderr",
     "output_type": "stream",
     "text": [
      "100%|██████████| 245/245 [00:28<00:00,  8.46it/s]\n",
      "100%|██████████| 245/245 [01:34<00:00,  2.59it/s]\n",
      "100%|██████████| 245/245 [01:25<00:00,  2.88it/s]\n"
     ]
    },
    {
     "name": "stdout",
     "output_type": "stream",
     "text": [
      "Val acc 0.9208, Test Acc: 0.7857\n",
      "Best val acc 0.9208, best test acc: 0.7857\n",
      "Epoch 00018 | Step 00000 | Loss 0.2427 | Train Acc 0.9316 | Speed (samples/sec) 322.7315 | GPU 6412.1 MB\n",
      "Epoch 00018 | Step 00020 | Loss 0.2687 | Train Acc 0.9277 | Speed (samples/sec) 323.0686 | GPU 6418.3 MB\n",
      "Epoch 00018 | Step 00040 | Loss 0.2224 | Train Acc 0.9316 | Speed (samples/sec) 323.4118 | GPU 6418.3 MB\n",
      "Epoch 00018 | Step 00060 | Loss 0.2404 | Train Acc 0.9219 | Speed (samples/sec) 323.7349 | GPU 6418.3 MB\n",
      "Epoch 00018 | Step 00080 | Loss 0.2329 | Train Acc 0.9219 | Speed (samples/sec) 324.0566 | GPU 6418.3 MB\n",
      "Epoch 00018 | Step 00100 | Loss 0.2267 | Train Acc 0.9316 | Speed (samples/sec) 324.3889 | GPU 6418.3 MB\n",
      "Epoch 00018 | Step 00120 | Loss 0.2249 | Train Acc 0.9316 | Speed (samples/sec) 324.7197 | GPU 6418.3 MB\n",
      "Epoch 00018 | Step 00140 | Loss 0.2306 | Train Acc 0.9277 | Speed (samples/sec) 325.0130 | GPU 6418.3 MB\n",
      "Epoch 00018 | Step 00160 | Loss 0.1816 | Train Acc 0.9395 | Speed (samples/sec) 325.3466 | GPU 6418.3 MB\n",
      "Epoch 00018 | Step 00180 | Loss 0.3074 | Train Acc 0.9023 | Speed (samples/sec) 325.6652 | GPU 6418.3 MB\n",
      "Epoch 00018 | Step 00200 | Loss 0.2207 | Train Acc 0.9316 | Speed (samples/sec) 325.9484 | GPU 6418.3 MB\n",
      "Epoch 00018 | Step 00220 | Loss 0.1959 | Train Acc 0.9395 | Speed (samples/sec) 326.2628 | GPU 6418.3 MB\n",
      "Epoch 00018 | Step 00240 | Loss 0.2339 | Train Acc 0.9238 | Speed (samples/sec) 326.5847 | GPU 6418.3 MB\n",
      "Epoch 00018 | Step 00260 | Loss 0.2690 | Train Acc 0.9121 | Speed (samples/sec) 326.8964 | GPU 6418.3 MB\n",
      "Epoch 00018 | Step 00280 | Loss 0.2704 | Train Acc 0.9238 | Speed (samples/sec) 327.1934 | GPU 6418.3 MB\n",
      "Epoch 00018 | Step 00300 | Loss 0.2260 | Train Acc 0.9375 | Speed (samples/sec) 327.5151 | GPU 6418.3 MB\n",
      "Epoch 00018 | Step 00320 | Loss 0.2619 | Train Acc 0.9160 | Speed (samples/sec) 327.8232 | GPU 6418.3 MB\n",
      "Epoch 00018 | Step 00340 | Loss 0.2313 | Train Acc 0.9219 | Speed (samples/sec) 328.1371 | GPU 6418.3 MB\n",
      "Epoch 00018 | Step 00360 | Loss 0.2651 | Train Acc 0.9219 | Speed (samples/sec) 328.4486 | GPU 6418.3 MB\n",
      "Epoch 00018 | Step 00380 | Loss 0.2867 | Train Acc 0.9082 | Speed (samples/sec) 328.7541 | GPU 6418.3 MB\n",
      "Epoch Time(s): 448.7526\n"
     ]
    },
    {
     "name": "stderr",
     "output_type": "stream",
     "text": [
      "100%|██████████| 245/245 [00:28<00:00,  8.49it/s]\n",
      "100%|██████████| 245/245 [01:34<00:00,  2.59it/s]\n",
      "100%|██████████| 245/245 [01:24<00:00,  2.88it/s]\n"
     ]
    },
    {
     "name": "stdout",
     "output_type": "stream",
     "text": [
      "Val acc 0.9214, Test Acc: 0.7918\n",
      "Best val acc 0.9214, best test acc: 0.7918\n",
      "Epoch 00019 | Step 00000 | Loss 0.2737 | Train Acc 0.9043 | Speed (samples/sec) 328.7877 | GPU 6418.3 MB\n",
      "Epoch 00019 | Step 00020 | Loss 0.2635 | Train Acc 0.9082 | Speed (samples/sec) 329.0830 | GPU 6418.3 MB\n",
      "Epoch 00019 | Step 00040 | Loss 0.2917 | Train Acc 0.9121 | Speed (samples/sec) 329.3846 | GPU 6418.3 MB\n",
      "Epoch 00019 | Step 00060 | Loss 0.2869 | Train Acc 0.8945 | Speed (samples/sec) 329.6826 | GPU 6418.3 MB\n",
      "Epoch 00019 | Step 00080 | Loss 0.2784 | Train Acc 0.9180 | Speed (samples/sec) 329.9836 | GPU 6418.3 MB\n",
      "Epoch 00019 | Step 00100 | Loss 0.2326 | Train Acc 0.9258 | Speed (samples/sec) 330.2733 | GPU 6418.3 MB\n",
      "Epoch 00019 | Step 00120 | Loss 0.2387 | Train Acc 0.9180 | Speed (samples/sec) 330.5601 | GPU 6418.3 MB\n",
      "Epoch 00019 | Step 00140 | Loss 0.2430 | Train Acc 0.9219 | Speed (samples/sec) 330.8626 | GPU 6418.3 MB\n",
      "Epoch 00019 | Step 00160 | Loss 0.2242 | Train Acc 0.9199 | Speed (samples/sec) 331.1452 | GPU 6418.3 MB\n",
      "Epoch 00019 | Step 00180 | Loss 0.2097 | Train Acc 0.9297 | Speed (samples/sec) 331.4131 | GPU 6418.3 MB\n",
      "Epoch 00019 | Step 00200 | Loss 0.2137 | Train Acc 0.9219 | Speed (samples/sec) 331.7101 | GPU 6418.3 MB\n",
      "Epoch 00019 | Step 00220 | Loss 0.2887 | Train Acc 0.9082 | Speed (samples/sec) 331.9894 | GPU 6418.3 MB\n",
      "Epoch 00019 | Step 00240 | Loss 0.2220 | Train Acc 0.9375 | Speed (samples/sec) 332.2833 | GPU 6418.3 MB\n",
      "Epoch 00019 | Step 00260 | Loss 0.1683 | Train Acc 0.9414 | Speed (samples/sec) 332.5847 | GPU 6418.3 MB\n",
      "Epoch 00019 | Step 00280 | Loss 0.2272 | Train Acc 0.9316 | Speed (samples/sec) 332.8509 | GPU 6418.3 MB\n",
      "Epoch 00019 | Step 00300 | Loss 0.3408 | Train Acc 0.9121 | Speed (samples/sec) 333.1329 | GPU 6418.3 MB\n",
      "Epoch 00019 | Step 00320 | Loss 0.2042 | Train Acc 0.9297 | Speed (samples/sec) 333.4227 | GPU 6418.3 MB\n",
      "Epoch 00019 | Step 00340 | Loss 0.2185 | Train Acc 0.9395 | Speed (samples/sec) 333.7056 | GPU 6418.3 MB\n",
      "Epoch 00019 | Step 00360 | Loss 0.2746 | Train Acc 0.9219 | Speed (samples/sec) 333.9815 | GPU 6418.3 MB\n",
      "Epoch 00019 | Step 00380 | Loss 0.2193 | Train Acc 0.9414 | Speed (samples/sec) 334.2496 | GPU 6418.3 MB\n",
      "Epoch Time(s): 447.8672\n"
     ]
    },
    {
     "name": "stderr",
     "output_type": "stream",
     "text": [
      "100%|██████████| 245/245 [00:29<00:00,  8.43it/s]\n",
      "100%|██████████| 245/245 [01:34<00:00,  2.60it/s]\n",
      "100%|██████████| 245/245 [01:25<00:00,  2.87it/s]\n"
     ]
    },
    {
     "name": "stdout",
     "output_type": "stream",
     "text": [
      "Val acc 0.9176, Test Acc: 0.7888\n",
      "Avg epoch time: 766.3484711488088\n",
      "Best val acc 0.9214, best test acc: 0.7918\n"
     ]
    }
   ],
   "source": [
    "g, num_labels = load_ogb('ogbn-products')\n",
    "g.ndata.pop('features')\n",
    "\n",
    "in_feats = 128\n",
    "eigen_vals, eigen_vecs = get_eigen(g, in_feats, 'ogbn-products')\n",
    "nfeat = th.tensor(eigen_vecs * np.sqrt(eigen_vals).reshape((1, len(eigen_vals))), dtype=th.float32)\n",
    "labels = g.ndata.pop('labels')\n",
    "\n",
    "hyperparams = {\n",
    "    'batch_size': 512,\n",
    "    'num_workers': 0,\n",
    "    'num_hidden': 256,\n",
    "    'num_layers': 3,\n",
    "    'num_heads': 2,\n",
    "    'dropout': 0.5,\n",
    "    'lr': 0.003,\n",
    "    'sparse_lr': 0.003,\n",
    "    'num_epochs': 20,\n",
    "    'fanouts': [15,10,5],\n",
    "    'eval_batch_size': 10000\n",
    "}\n",
    "device = th.device('cuda:4')\n",
    "\n",
    "# Pack data\n",
    "data = g, nfeat, labels\n",
    "# Define model\n",
    "model = GAT(in_feats, hyperparams['num_hidden'], num_labels,\n",
    "             hyperparams['num_layers'], hyperparams['num_heads'], F.relu, hyperparams['dropout'])\n",
    "train_ft_embed(model, data, hyperparams, device, 1)"
   ]
  },
  {
   "cell_type": "code",
   "execution_count": null,
   "metadata": {},
   "outputs": [],
   "source": []
  }
 ],
 "metadata": {
  "kernelspec": {
   "display_name": "Python 3",
   "language": "python",
   "name": "python3"
  },
  "language_info": {
   "codemirror_mode": {
    "name": "ipython",
    "version": 3
   },
   "file_extension": ".py",
   "mimetype": "text/x-python",
   "name": "python",
   "nbconvert_exporter": "python",
   "pygments_lexer": "ipython3",
   "version": "3.6.9"
  }
 },
 "nbformat": 4,
 "nbformat_minor": 2
}
